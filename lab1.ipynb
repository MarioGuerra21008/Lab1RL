{
 "cells": [
  {
   "cell_type": "markdown",
   "id": "932e804e",
   "metadata": {},
   "source": [
    "# Laboratorio 1 - Reinforcement Learning\n",
    "## Grupo 10\n",
    "## Integrantes:\n",
    "\n",
    "- Mario Guerra - Carné: 21008\n",
    "- Diego Hernández - Carné: 21270\n",
    "- Linda Jiménez - Carné: 21169"
   ]
  },
  {
   "cell_type": "code",
   "execution_count": 1,
   "id": "2a833830",
   "metadata": {},
   "outputs": [],
   "source": [
    "import numpy as np\n",
    "import random"
   ]
  },
  {
   "cell_type": "markdown",
   "id": "c1c2b598",
   "metadata": {},
   "source": [
    "# Task 2"
   ]
  },
  {
   "cell_type": "markdown",
   "id": "1ba9b276",
   "metadata": {},
   "source": [
    "1. Crea una clase Bandit para representar el entorno. Esta clase debería inicializar 10 brazos, cada uno con una probabilidad de recompensa elegida al azar entre 0 y 1."
   ]
  },
  {
   "cell_type": "markdown",
   "id": "9ffca024",
   "metadata": {},
   "source": [
    "2. La clase debe tener un método pull(arm) que devuelva una recompensa de 1 con la probabilidad específica del brazo elegido y 0 en caso contrario."
   ]
  },
  {
   "cell_type": "code",
   "execution_count": 2,
   "id": "e2c35b32",
   "metadata": {},
   "outputs": [],
   "source": [
    "# Clase Bandit\n",
    "class Bandit:\n",
    "    def __init__(self, num_arms=10):\n",
    "        self.num_arms = num_arms\n",
    "        self.probabilities = np.random.rand(num_arms)  # Probabilidades entre 0 y 1.\n",
    "\n",
    "    # Método Pull\n",
    "    def pull(self, arm):\n",
    "        return 1 if random.random() < self.probabilities[arm] else 0"
   ]
  },
  {
   "cell_type": "markdown",
   "id": "9b99eaa0",
   "metadata": {},
   "source": [
    "3. Cree una clase de Agent para implementar la estrategia de épsilon-greedy."
   ]
  },
  {
   "cell_type": "markdown",
   "id": "bda549af",
   "metadata": {},
   "source": [
    "4. Inicialice el agente con un valor épsilon específico para la exploración, una matriz para almacenar las recompensas estimadas para cada brazo (inicializada en cero) y una matriz para contar la cantidad de\n",
    "veces que se ha extraído cada brazo."
   ]
  },
  {
   "cell_type": "markdown",
   "id": "0f7d2374",
   "metadata": {},
   "source": [
    "5. Implemente un método select_arm() en la clase Agent que:\n",
    "   \n",
    "    a. Con probabilidad épsilon, selecciona un brazo aleatorio.\n",
    "   \n",
    "    b. Con probabilidad 1−ε, selecciona el brazo con la recompensa estimada más alta."
   ]
  },
  {
   "cell_type": "markdown",
   "id": "3059b9d0",
   "metadata": {},
   "source": [
    "6. Implemente un método update_estimates(arm, recompensa) para actualizar la recompensa estimada para el brazo elegido usando la fórmula vista en clase."
   ]
  },
  {
   "cell_type": "code",
   "execution_count": 3,
   "id": "92cf4f14",
   "metadata": {},
   "outputs": [],
   "source": [
    "# Clase Agent\n",
    "class Agent:\n",
    "    def __init__(self, num_arms=10, epsilon=0.1):\n",
    "        # Elementos de la clase, en los que incluye el valor epsilon, el número de brazos, una matriz para almacenar las recompensas del brazo\n",
    "        # y una matriz para el conteo de veces que se ha extraído cada brazo.\n",
    "        self.epsilon = epsilon\n",
    "        self.num_arms = num_arms\n",
    "        self.counts = np.zeros(num_arms)\n",
    "        self.values = np.zeros(num_arms)\n",
    "\n",
    "    def select_arm(self):\n",
    "        # Selección de brazo usando la estrategia epsilon-greedy\n",
    "        if random.random() < self.epsilon:\n",
    "            return random.randint(0, self.num_arms - 1) # Explorar \n",
    "        else:\n",
    "            return np.argmax(self.values) # Explotar\n",
    "\n",
    "    def update_estimates(self, arm, reward):\n",
    "        # Actualización de las estimaciones de recompensa para el brazo elegido\n",
    "        self.counts[arm] += 1\n",
    "        n = self.counts[arm]\n",
    "        value = self.values[arm]\n",
    "        # Fórmula para actualizar la recompensa estimada\n",
    "        self.values[arm] = value + (reward - value) / n "
   ]
  },
  {
   "cell_type": "markdown",
   "id": "c758f3e8",
   "metadata": {},
   "source": [
    "7. Inicialice Bandit y Agent con épsilon configurado en 0.1."
   ]
  },
  {
   "cell_type": "code",
   "execution_count": 4,
   "id": "e6b23347",
   "metadata": {},
   "outputs": [],
   "source": [
    "bandit = Bandit()\n",
    "agent = Agent(epsilon=0.1)"
   ]
  }
 ],
 "metadata": {
  "kernelspec": {
   "display_name": "venv",
   "language": "python",
   "name": "python3"
  },
  "language_info": {
   "codemirror_mode": {
    "name": "ipython",
    "version": 3
   },
   "file_extension": ".py",
   "mimetype": "text/x-python",
   "name": "python",
   "nbconvert_exporter": "python",
   "pygments_lexer": "ipython3",
   "version": "3.11.8"
  }
 },
 "nbformat": 4,
 "nbformat_minor": 5
}
