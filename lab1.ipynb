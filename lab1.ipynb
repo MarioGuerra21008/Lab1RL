{
 "cells": [
  {
   "cell_type": "markdown",
   "id": "932e804e",
   "metadata": {},
   "source": [
    "# Laboratorio 1 - Reinforcement Learning\n",
    "## Grupo 10\n",
    "## Integrantes:\n",
    "\n",
    "- Mario Guerra - Carné: 21008\n",
    "- Diego Hernández - Carné: 21270\n",
    "- Linda Jiménez - Carné: 21169"
   ]
  },
  {
   "cell_type": "code",
   "execution_count": null,
   "id": "2a833830",
   "metadata": {},
   "outputs": [],
   "source": [
    "import numpy as np\n",
    "import random"
   ]
  },
  {
   "cell_type": "code",
   "execution_count": 4,
   "id": "e2c35b32",
   "metadata": {},
   "outputs": [],
   "source": [
    "# Clase Bandit\n",
    "class Bandit:\n",
    "    def __init__(self, num_arms=10):\n",
    "        self.num_arms = num_arms\n",
    "        self.probabilities = np.random.rand(num_arms)  # Probabilidades entre 0 y 1.\n",
    "\n",
    "    # Método Pull\n",
    "    def pull(self, arm):\n",
    "        return 1 if random.random() < self.probabilities[arm] else 0"
   ]
  },
  {
   "cell_type": "code",
   "execution_count": 5,
   "id": "92cf4f14",
   "metadata": {},
   "outputs": [],
   "source": [
    "# Clase Agent\n",
    "class Agent:\n",
    "    def __init__(self, num_arms=10, epsilon=0.1):\n",
    "        # Elementos de la clase, en los que incluye el valor epsilon, el número de brazos, una matriz para almacenar las recompensas del brazo\n",
    "        # y una matriz para el conteo de veces que se ha extraído cada brazo.\n",
    "        self.epsilon = epsilon\n",
    "        self.num_arms = num_arms\n",
    "        self.counts = np.zeros(num_arms)\n",
    "        self.values = np.zeros(num_arms)"
   ]
  }
 ],
 "metadata": {
  "kernelspec": {
   "display_name": ".venv",
   "language": "python",
   "name": "python3"
  },
  "language_info": {
   "codemirror_mode": {
    "name": "ipython",
    "version": 3
   },
   "file_extension": ".py",
   "mimetype": "text/x-python",
   "name": "python",
   "nbconvert_exporter": "python",
   "pygments_lexer": "ipython3",
   "version": "3.12.5"
  }
 },
 "nbformat": 4,
 "nbformat_minor": 5
}
